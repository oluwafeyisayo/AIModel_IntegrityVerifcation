{
 "cells": [
  {
   "cell_type": "code",
   "execution_count": 1,
   "metadata": {},
   "outputs": [],
   "source": [
    "# pip install fast_ml"
   ]
  },
  {
   "cell_type": "code",
   "execution_count": 2,
   "metadata": {},
   "outputs": [],
   "source": [
    "import pandas as pd \n",
    "import numpy as np\n",
    "import matplotlib.pyplot as plt\n",
    "import seaborn as sns\n",
    "from sklearn.linear_model import LogisticRegression,LinearRegression\n",
    "from sklearn.naive_bayes import GaussianNB\n",
    "from sklearn.neighbors import KNeighborsClassifier\n",
    "from sklearn.ensemble import RandomForestClassifier\n",
    "from sklearn.ensemble import RandomForestRegressor\n",
    "from sklearn.model_selection import train_test_split\n",
    "from sklearn import metrics, svm\n",
    "from fast_ml.model_development import train_valid_test_split\n",
    "import warnings\n",
    "warnings.filterwarnings(\"ignore\")"
   ]
  },
  {
   "cell_type": "code",
   "execution_count": 3,
   "metadata": {},
   "outputs": [],
   "source": [
    "def displayInfo (training, edge1, edge2, edge3, edge4):\n",
    "    print (\"Precision on Training Data: \", training)\n",
    "    print (\"Precision on edge1 Data: \", edge1)\n",
    "    print (\"Precision on edge2 Data: \", edge2)\n",
    "    print (\"Precision on edge3 Data: \", edge3)\n",
    "    print (\"Precision on edge4 Data: \", edge4)"
   ]
  },
  {
   "cell_type": "code",
   "execution_count": 4,
   "metadata": {},
   "outputs": [],
   "source": [
    "def calculateAccuracy (Y_predicted, Y_true, datasetType: str, model):\n",
    "    if datasetType == \"Categorical\":\n",
    "        return metrics.precision_score(Y_true, Y_predicted,average='macro')\n",
    "    return metrics.mean_squared_error(Y_true, Y_predicted)"
   ]
  },
  {
   "cell_type": "code",
   "execution_count": 5,
   "metadata": {},
   "outputs": [],
   "source": [
    "# models\n",
    "def trainCategoricalModel (X,Y):\n",
    "    return LogisticRegression().fit(X, Y)\n",
    "\n",
    "def trainCatergoricalModel_ (X,Y):\n",
    "    return GaussianNB().fit(X, Y)\n",
    "\n",
    "def trainCatModel (X,Y):\n",
    "    model  = svm.SVC(kernel='linear')\n",
    "    return model.fit(X, Y)\n",
    "\n",
    "def trainContinuousModel (X,Y):\n",
    "    return LinearRegression().fit(X, Y)\n",
    "\n",
    "def trainContinuousModel_ (X,Y):\n",
    "    Y = Y.astype('int')\n",
    "    model = KNeighborsClassifier(n_neighbors=1)\n",
    "    return model.fit(X,Y)\n",
    "\n",
    "def trainConModel(X,Y):\n",
    "    Y = Y.astype('int')\n",
    "    model = RandomForestRegressor(n_estimators= 1000, random_state=42)\n",
    "    return model.fit(X,Y)"
   ]
  },
  {
   "cell_type": "code",
   "execution_count": 6,
   "metadata": {},
   "outputs": [],
   "source": [
    "def runModel(model, X_test, Y_test,datasetType: str): \n",
    "    Y_predicted = model.predict(X_test)\n",
    "    return calculateAccuracy (Y_predicted, Y_test,datasetType, model)"
   ]
  },
  {
   "cell_type": "code",
   "execution_count": 7,
   "metadata": {},
   "outputs": [],
   "source": [
    "def loadData (df,predictName: str,datasetType: str):\n",
    "\n",
    "    X = df.drop(columns=[predictName])  # Features\n",
    "    y = df[predictName]                # Target\n",
    "    \n",
    "    # First split: Split data into two halves (50% training and 50% for further splits)\n",
    "    model_train_X, X_remaining, model_train_Y, y_remaining = train_test_split(X, y, train_size=0.5, random_state=42)\n",
    "    \n",
    "    # Second split: Split the remaining data into 2 (50% for edge server 1 and 50% for edge server 2)\n",
    "    edgeServer1_X, edgeServer2_X, edgeServer1_Y, edgeServer2_Y = train_test_split(X_remaining, y_remaining, train_size=0.5, random_state=42)\n",
    "    \n",
    "    # Third split: Split the remaining data into 2 (50% for edge server 3 and 50% for edge server 4)\n",
    "    edgeServer3_X, edgeServer4_X, edgeServer3_Y, edgeServer4_Y = train_test_split(X_remaining, y_remaining, train_size=0.5, random_state=42)\n",
    "    \n",
    "    if datasetType == \"Categorical\":\n",
    "        model = trainCategoricalModel (model_train_X, model_train_Y)\n",
    "        \n",
    "    else:\n",
    "        model = trainContinuousModel (model_train_X, model_train_Y)\n",
    "        \n",
    "        \n",
    "    trainingAccuacy, edgeServer1Accuracy, edgeServer2Accuracy, edgeServer3Accuracy, edgeServer4Accuracy = runModel (model, model_train_X, model_train_Y,datasetType), runModel(model,edgeServer1_X, edgeServer1_Y,datasetType), runModel(model,edgeServer2_X, edgeServer2_Y,datasetType), runModel(model,edgeServer3_X, edgeServer3_Y,datasetType), runModel(model,edgeServer4_X, edgeServer4_Y,datasetType)\n",
    "\n",
    "    return trainingAccuacy, edgeServer1Accuracy, edgeServer2Accuracy, edgeServer3Accuracy, edgeServer4Accuracy\n"
   ]
  },
  {
   "cell_type": "code",
   "execution_count": 8,
   "metadata": {},
   "outputs": [],
   "source": [
    "def loaddata (df,predictName: str,datasetType: str):\n",
    "    \n",
    "    X = df.drop(columns=[predictName])  # Features\n",
    "    y = df[predictName]                # Target\n",
    "    \n",
    "    # First split: Split data into two halves (50% training and 50% for further splits)\n",
    "    model_train_X, X_remaining, model_train_Y, y_remaining = train_test_split(X, y, train_size=0.5, random_state=42)\n",
    "    \n",
    "    # Second split: Split the remaining data into 2 (50% for edge server 1 and 50% for edge server 2)\n",
    "    edgeServer1_X, edgeServer2_X, edgeServer1_Y, edgeServer2_Y = train_test_split(X_remaining, y_remaining, train_size=0.5, random_state=42)\n",
    "    \n",
    "    # Third split: Split the remaining data into 2 (50% for edge server 3 and 50% for edge server 4)\n",
    "    edgeServer3_X, edgeServer4_X, edgeServer3_Y, edgeServer4_Y = train_test_split(X_remaining, y_remaining, train_size=0.5, random_state=42)\n",
    "    \n",
    "    if datasetType == \"Categorical\":\n",
    "        \n",
    "        model_a = trainCatergoricalModel_(model_train_X, model_train_Y)\n",
    "        \n",
    "    else:\n",
    "        \n",
    "        model_a = trainContinuousModel_(model_train_X, model_train_Y)   \n",
    "    \n",
    "\n",
    "    training_A, edgeServer1_A, edgeServer2_A, edgeServer3_A, edgeServer4_A = runModel (model_a, model_train_X, model_train_Y,datasetType), runModel(model_a,edgeServer1_X, edgeServer1_Y,datasetType), runModel(model_a,edgeServer2_X, edgeServer2_Y,datasetType), runModel(model_a,edgeServer3_X, edgeServer3_Y,datasetType), runModel(model_a,edgeServer4_X, edgeServer4_Y,datasetType)\n",
    "    \n",
    "    return training_A, edgeServer1_A, edgeServer2_A, edgeServer3_A, edgeServer4_A\n",
    "    "
   ]
  },
  {
   "cell_type": "code",
   "execution_count": 9,
   "metadata": {},
   "outputs": [],
   "source": [
    "def load_data (df,predictName: str,datasetType: str):\n",
    "    \n",
    "    X = df.drop(columns=[predictName])  # Features\n",
    "    y = df[predictName]                # Target\n",
    "    \n",
    "    # First split: Split data into two halves (50% training and 50% for further splits)\n",
    "    model_train_X, X_remaining, model_train_Y, y_remaining = train_test_split(X, y, train_size=0.5, random_state=42)\n",
    "    \n",
    "    # Second split: Split the remaining data into 2 (50% for edge server 1 and 50% for edge server 2)\n",
    "    edgeServer1_X, edgeServer2_X, edgeServer1_Y, edgeServer2_Y = train_test_split(X_remaining, y_remaining, train_size=0.5, random_state=42)\n",
    "    \n",
    "    # Third split: Split the remaining data into 2 (50% for edge server 3 and 50% for edge server 4)\n",
    "    edgeServer3_X, edgeServer4_X, edgeServer3_Y, edgeServer4_Y = train_test_split(X_remaining, y_remaining, train_size=0.5, random_state=42)\n",
    "\n",
    "    \n",
    "    if datasetType == \"Categorical\":\n",
    "        \n",
    "        model_b = trainCatModel(model_train_X, model_train_Y)\n",
    "        \n",
    "    else:\n",
    "       \n",
    "        model_b = trainConModel(model_train_X, model_train_Y)\n",
    "        \n",
    "    training_B, edgeServer1_B, edgeServer2_B, edgeServer3_B, edgeServer4_B = runModel (model_b, model_train_X, model_train_Y,datasetType), runModel(model_b,edgeServer1_X, edgeServer1_Y,datasetType), runModel(model_b,edgeServer2_X, edgeServer2_Y,datasetType), runModel(model_b,edgeServer3_X, edgeServer3_Y,datasetType), runModel(model_b,edgeServer4_X, edgeServer4_Y,datasetType) \n",
    "    \n",
    "        \n",
    "    return training_B, edgeServer1_B, edgeServer2_B, edgeServer3_B, edgeServer4_B\n"
   ]
  },
  {
   "cell_type": "code",
   "execution_count": 10,
   "metadata": {},
   "outputs": [],
   "source": [
    "def Occupancy():\n",
    "    print(\"-------------- Occupancy Dataset Info -------------------- \")\n",
    "    df = pd.read_csv('C:/Users/moyin/Downloads/data/Occupancy.csv')\n",
    "    df.drop(columns = [\"date\"],inplace = True)\n",
    "    trainingAccuacy, edgeServer1Accuracy, edgeServer2Accuracy, edgeServer3Accuracy, edgeServer4Accuracy = loadData(df,'Occupancy',\"Categorical\")\n",
    "    training_A, edgeServer1_A, edgeServer2_A, edgeServer3_A, edgeServer4_A = loaddata (df,'Occupancy',\"Categorical\")\n",
    "    training_B, edgeServer1_B, edgeServer2_B, edgeServer3_B, edgeServer4_B = load_data (df,'Occupancy',\"Categorical\")\n",
    "    displayInfo(trainingAccuacy, edgeServer1Accuracy, edgeServer2Accuracy, edgeServer3Accuracy, edgeServer4Accuracy)\n",
    "    print(\"------------------------------------------------------------\")\n",
    "    displayInfo(training_A, edgeServer1_A, edgeServer2_A, edgeServer3_A, edgeServer4_A)\n",
    "    print(\"------------------------------------------------------------\")\n",
    "    displayInfo(training_B, edgeServer1_B, edgeServer2_B, edgeServer3_B, edgeServer4_B)\n",
    "    return "
   ]
  },
  {
   "cell_type": "code",
   "execution_count": 11,
   "metadata": {},
   "outputs": [],
   "source": [
    "def powerConsumption():\n",
    "    print(\"-------------- Power Consumption Dataset Info -------------------- \")\n",
    "    df = pd.read_csv('C:/Users/moyin/Downloads/data/Tetuan City power consumption.csv')\n",
    "    df.drop(columns = ['DateTime','Zone 2  Power Consumption', 'Zone 3  Power Consumption'],inplace = True)\n",
    "    trainingAccuacy, edgeServer1Accuracy, edgeServer2Accuracy, edgeServer3Accuracy, edgeServer4Accuracy = loadData(df,'Zone 1 Power Consumption',\"Continuous\")\n",
    "    training_A, edgeServer1_A, edgeServer2_A, edgeServer3_A, edgeServer4_A = loaddata (df,'Zone 1 Power Consumption',\"Continuous\")\n",
    "    training_B, edgeServer1_B, edgeServer2_B, edgeServer3_B, edgeServer4_B = load_data (df,'Zone 1 Power Consumption',\"Continuous\")\n",
    "    displayInfo(trainingAccuacy, edgeServer1Accuracy, edgeServer2Accuracy, edgeServer3Accuracy, edgeServer4Accuracy)\n",
    "    print(\"------------------------------------------------------------\")\n",
    "    displayInfo(training_A, edgeServer1_A, edgeServer2_A, edgeServer3_A, edgeServer4_A)\n",
    "    print(\"------------------------------------------------------------\")\n",
    "    displayInfo(training_B, edgeServer1_B, edgeServer2_B, edgeServer3_B, edgeServer4_B)\n",
    "    return "
   ]
  },
  {
   "cell_type": "code",
   "execution_count": 12,
   "metadata": {},
   "outputs": [],
   "source": [
    "def accelerometer_w():\n",
    "    print(\"-------------- Accelerometer Dataset Info -------------------- \")\n",
    "    df = pd.read_csv('C:/Users/moyin/Downloads/data/accelerometer.csv')\n",
    "#     df.drop(columns = ['wconfid','pctid', 'x', 'y', 'z'],inplace = True)\n",
    "    trainingAccuacy, edgeServer1Accuracy, edgeServer2Accuracy, edgeServer3Accuracy, edgeServer4Accuracy = loadData(df,'wconfid',\"Continuous\")\n",
    "    training_A, edgeServer1_A, edgeServer2_A, edgeServer3_A, edgeServer4_A = loaddata (df,'wconfid',\"Continuous\")\n",
    "    training_B, edgeServer1_B, edgeServer2_B, edgeServer3_B, edgeServer4_B = load_data (df,'wconfid',\"Continuous\")\n",
    "    displayInfo(trainingAccuacy, edgeServer1Accuracy, edgeServer2Accuracy, edgeServer3Accuracy, edgeServer4Accuracy)\n",
    "    print(\"------------------------------------------------------------\")\n",
    "    displayInfo(training_A, edgeServer1_A, edgeServer2_A, edgeServer3_A, edgeServer4_A)\n",
    "    print(\"------------------------------------------------------------\")\n",
    "    displayInfo(training_B, edgeServer1_B, edgeServer2_B, edgeServer3_B, edgeServer4_B)\n",
    "    return "
   ]
  },
  {
   "cell_type": "code",
   "execution_count": 13,
   "metadata": {},
   "outputs": [],
   "source": [
    "def activity_wsdata():\n",
    "    print(\"-------------- Wearable Sensor Dataset Info -------------------- \")\n",
    "    df = pd.read_csv('C:/Users/moyin/Downloads/data/activity data.csv')\n",
    "    trainingAccuacy, edgeServer1Accuracy, edgeServer2Accuracy, edgeServer3Accuracy, edgeServer4Accuracy = loadData(df,'activity',\"Categorical\")\n",
    "    training_A, edgeServer1_A, edgeServer2_A, edgeServer3_A, edgeServer4_A = loaddata (df,'activity',\"Categorical\")\n",
    "    training_B, edgeServer1_B, edgeServer2_B, edgeServer3_B, edgeServer4_B = load_data (df,'activity',\"Categorical\")\n",
    "    displayInfo(trainingAccuacy, edgeServer1Accuracy, edgeServer2Accuracy, edgeServer3Accuracy, edgeServer4Accuracy)\n",
    "    print(\"------------------------------------------------------------\")\n",
    "    displayInfo(training_A, edgeServer1_A, edgeServer2_A, edgeServer3_A, edgeServer4_A)\n",
    "    print(\"------------------------------------------------------------\")\n",
    "    displayInfo(training_B, edgeServer1_B, edgeServer2_B, edgeServer3_B, edgeServer4_B)\n",
    "    return "
   ]
  },
  {
   "cell_type": "code",
   "execution_count": 14,
   "metadata": {},
   "outputs": [],
   "source": [
    "def ALEdata():\n",
    "    print(\"-------------- ALE Sensor Data Dataset Info -------------------- \")\n",
    "    df = pd.read_csv('C:/Users/moyin/Downloads/data/ALE in Sensor.csv')\n",
    "    trainingAccuacy, edgeServer1Accuracy, edgeServer2Accuracy, edgeServer3Accuracy, edgeServer4Accuracy = loadData(df,'sd_ale',\"Continuous\")\n",
    "    training_A, edgeServer1_A, edgeServer2_A, edgeServer3_A, edgeServer4_A  = loaddata (df,'sd_ale',\"Continuous\")\n",
    "    training_B, edgeServer1_B, edgeServer2_B, edgeServer3_B, edgeServer4_B = load_data (df,'sd_ale',\"Continuous\")\n",
    "    displayInfo(trainingAccuacy, edgeServer1Accuracy, edgeServer2Accuracy, edgeServer3Accuracy, edgeServer4Accuracy)\n",
    "    print(\"------------------------------------------------------------\")\n",
    "    displayInfo(training_A, edgeServer1_A, edgeServer2_A, edgeServer3_A, edgeServer4_A)\n",
    "    print(\"------------------------------------------------------------\")\n",
    "    displayInfo(training_B, edgeServer1_B, edgeServer2_B, edgeServer3_B, edgeServer4_B)\n",
    "    return "
   ]
  },
  {
   "cell_type": "code",
   "execution_count": 15,
   "metadata": {},
   "outputs": [],
   "source": [
    "def banknote_data():\n",
    "    print(\"-------------- Bank Note Authentication Dataset Info -------------------- \")\n",
    "    df = pd.read_csv('C:/Users/moyin/Downloads/data/banknote_authen.txt')\n",
    "    trainingAccuacy, edgeServer1Accuracy, edgeServer2Accuracy, edgeServer3Accuracy, edgeServer4Accuracy = loadData(df,'class',\"Categorical\")\n",
    "    training_A, edgeServer1_A, edgeServer2_A, edgeServer3_A, edgeServer4_A = loaddata (df,'class',\"Categorical\")\n",
    "    training_B, edgeServer1_B, edgeServer2_B, edgeServer3_B, edgeServer4_B = load_data (df,'class',\"Categorical\")\n",
    "    displayInfo(trainingAccuacy, edgeServer1Accuracy, edgeServer2Accuracy, edgeServer3Accuracy, edgeServer4Accuracy)\n",
    "    print(\"------------------------------------------------------------\")\n",
    "    displayInfo(training_A, edgeServer1_A, edgeServer2_A, edgeServer3_A, edgeServer4_A)\n",
    "    print(\"------------------------------------------------------------\")\n",
    "    displayInfo(training_B, edgeServer1_B, edgeServer2_B, edgeServer3_B, edgeServer4_B)\n",
    "    return"
   ]
  },
  {
   "cell_type": "code",
   "execution_count": 16,
   "metadata": {},
   "outputs": [],
   "source": [
    "def RSSI():\n",
    "    print(\"-------------- BLE RSSI Dataset Info -------------------- \")\n",
    "    df = pd.read_csv('C:/Users/moyin/Downloads/data/BLE RSSI.csv')\n",
    "    df.drop(columns = ['name'],inplace = True)\n",
    "    trainingAccuacy, edgeServer1Accuracy, edgeServer2Accuracy, edgeServer3Accuracy, edgeServer4Accuracy = loadData(df,'locationStatus', \"Categorical\")\n",
    "    training_A, edgeServer1_A, edgeServer2_A, edgeServer3_A, edgeServer4_A  = loaddata (df,'locationStatus', \"Categorical\")\n",
    "    training_B, edgeServer1_B, edgeServer2_B, edgeServer3_B, edgeServer4_B  = load_data (df,'locationStatus', \"Categorical\")\n",
    "    displayInfo(trainingAccuacy, edgeServer1Accuracy, edgeServer2Accuracy, edgeServer3Accuracy, edgeServer4Accuracy)\n",
    "    print(\"------------------------------------------------------------\")\n",
    "    displayInfo(training_A, edgeServer1_A, edgeServer2_A, edgeServer3_A, edgeServer4_A)\n",
    "    print(\"------------------------------------------------------------\")\n",
    "    displayInfo(training_B, edgeServer1_B, edgeServer2_B, edgeServer3_B, edgeServer4_B)\n",
    "    return "
   ]
  },
  {
   "cell_type": "code",
   "execution_count": 17,
   "metadata": {},
   "outputs": [],
   "source": [
    "def e_grid():\n",
    "    print(\"-------------- Simulated Electrical Grid Dataset Info -------------------- \")\n",
    "    df = pd.read_csv('C:/Users/moyin/Downloads/data/UCI_named.csv')\n",
    "    trainingAccuacy, edgeServer1Accuracy, edgeServer2Accuracy, edgeServer3Accuracy, edgeServer4Accuracy = loadData(df,'stabf', 'Categorical')\n",
    "    training_A, edgeServer1_A, edgeServer2_A, edgeServer3_A, edgeServer4_A  = loaddata (df,'stabf', 'Categorical')\n",
    "    training_B, edgeServer1_B, edgeServer2_B, edgeServer3_B, edgeServer4_B = load_data (df,'stabf', 'Categorical')\n",
    "    displayInfo(trainingAccuacy, edgeServer1Accuracy, edgeServer2Accuracy, edgeServer3Accuracy, edgeServer4Accuracy)\n",
    "    print(\"------------------------------------------------------------\")\n",
    "    displayInfo(training_A, edgeServer1_A, edgeServer2_A, edgeServer3_A, edgeServer4_A)\n",
    "    print(\"------------------------------------------------------------\")\n",
    "    displayInfo(training_B, edgeServer1_B, edgeServer2_B, edgeServer3_B, edgeServer4_B)\n",
    "    return  "
   ]
  },
  {
   "cell_type": "code",
   "execution_count": 18,
   "metadata": {},
   "outputs": [],
   "source": [
    "# if __name__==\"__main__\":\n",
    "#     Occupancy()\n",
    "#     powerConsumption()\n",
    "#     accelerometer_w()\n",
    "#     activity_wsdata()\n",
    "#     ALEdata()\n",
    "#     banknote_data()\n",
    "#     RSSI()\n",
    "#     e_grid()"
   ]
  },
  {
   "cell_type": "code",
   "execution_count": 19,
   "metadata": {},
   "outputs": [
    {
     "name": "stdout",
     "output_type": "stream",
     "text": [
      "-------------- Occupancy Dataset Info -------------------- \n",
      "Precision on Training Data:  0.9756555008005323\n",
      "Precision on edge1 Data:  0.9830036196897478\n",
      "Precision on edge2 Data:  0.9796027053755149\n",
      "Precision on edge3 Data:  0.9830036196897478\n",
      "Precision on edge4 Data:  0.9796027053755149\n",
      "------------------------------------------------------------\n",
      "Precision on Training Data:  0.9368955579765137\n",
      "Precision on edge1 Data:  0.9411054832628709\n",
      "Precision on edge2 Data:  0.9347832627132062\n",
      "Precision on edge3 Data:  0.9411054832628709\n",
      "Precision on edge4 Data:  0.9347832627132062\n",
      "------------------------------------------------------------\n",
      "Precision on Training Data:  0.9753418782709702\n",
      "Precision on edge1 Data:  0.9832871713493903\n",
      "Precision on edge2 Data:  0.9788032060107311\n",
      "Precision on edge3 Data:  0.9832871713493903\n",
      "Precision on edge4 Data:  0.9788032060107311\n"
     ]
    }
   ],
   "source": [
    "Occupancy()"
   ]
  },
  {
   "cell_type": "code",
   "execution_count": 20,
   "metadata": {},
   "outputs": [
    {
     "name": "stdout",
     "output_type": "stream",
     "text": [
      "-------------- Power Consumption Dataset Info -------------------- \n",
      "Precision on Training Data:  40438444.12822876\n",
      "Precision on edge1 Data:  39916750.83245769\n",
      "Precision on edge2 Data:  40454315.68410782\n",
      "Precision on edge3 Data:  39916750.83245769\n",
      "Precision on edge4 Data:  40454315.68410782\n",
      "------------------------------------------------------------\n",
      "Precision on Training Data:  0.3239834486681542\n",
      "Precision on edge1 Data:  51887803.65204311\n",
      "Precision on edge2 Data:  51541936.14630976\n",
      "Precision on edge3 Data:  51887803.65204311\n",
      "Precision on edge4 Data:  51541936.14630976\n",
      "------------------------------------------------------------\n",
      "Precision on Training Data:  3189960.186173851\n",
      "Precision on edge1 Data:  23260268.067719262\n",
      "Precision on edge2 Data:  24546895.81858039\n",
      "Precision on edge3 Data:  23260268.067719262\n",
      "Precision on edge4 Data:  24546895.81858039\n"
     ]
    }
   ],
   "source": [
    "powerConsumption()"
   ]
  },
  {
   "cell_type": "code",
   "execution_count": 21,
   "metadata": {},
   "outputs": [
    {
     "name": "stdout",
     "output_type": "stream",
     "text": [
      "-------------- Accelerometer Dataset Info -------------------- \n",
      "Precision on Training Data:  0.6667663049192497\n",
      "Precision on edge1 Data:  0.6674918030989705\n",
      "Precision on edge2 Data:  0.6655160560526169\n",
      "Precision on edge3 Data:  0.6674918030989705\n",
      "Precision on edge4 Data:  0.6655160560526169\n",
      "------------------------------------------------------------\n",
      "Precision on Training Data:  0.03669281045751634\n",
      "Precision on edge1 Data:  0.5035032679738562\n",
      "Precision on edge2 Data:  0.49349019607843136\n",
      "Precision on edge3 Data:  0.5035032679738562\n",
      "Precision on edge4 Data:  0.49349019607843136\n",
      "------------------------------------------------------------\n",
      "Precision on Training Data:  0.05342808817381868\n",
      "Precision on edge1 Data:  0.300948725224751\n",
      "Precision on edge2 Data:  0.29286757439532735\n",
      "Precision on edge3 Data:  0.300948725224751\n",
      "Precision on edge4 Data:  0.29286757439532735\n"
     ]
    }
   ],
   "source": [
    "accelerometer_w()"
   ]
  },
  {
   "cell_type": "code",
   "execution_count": 22,
   "metadata": {},
   "outputs": [
    {
     "name": "stdout",
     "output_type": "stream",
     "text": [
      "-------------- Wearable Sensor Dataset Info -------------------- \n",
      "Precision on Training Data:  0.998389694041868\n",
      "Precision on edge1 Data:  0.32690246516613075\n",
      "Precision on edge2 Data:  0.6634408602150538\n",
      "Precision on edge3 Data:  0.32690246516613075\n",
      "Precision on edge4 Data:  0.6634408602150538\n",
      "------------------------------------------------------------\n",
      "Precision on Training Data:  1.0\n",
      "Precision on edge1 Data:  0.32690246516613075\n",
      "Precision on edge2 Data:  0.5544733044733045\n",
      "Precision on edge3 Data:  0.32690246516613075\n",
      "Precision on edge4 Data:  0.5544733044733045\n",
      "------------------------------------------------------------\n",
      "Precision on Training Data:  1.0\n",
      "Precision on edge1 Data:  0.4144951140065147\n",
      "Precision on edge2 Data:  0.5\n",
      "Precision on edge3 Data:  0.4144951140065147\n",
      "Precision on edge4 Data:  0.5\n"
     ]
    }
   ],
   "source": [
    "activity_wsdata()"
   ]
  },
  {
   "cell_type": "code",
   "execution_count": 23,
   "metadata": {},
   "outputs": [
    {
     "name": "stdout",
     "output_type": "stream",
     "text": [
      "-------------- ALE Sensor Data Dataset Info -------------------- \n",
      "Precision on Training Data:  0.010143001773508614\n",
      "Precision on edge1 Data:  0.011910099917907448\n",
      "Precision on edge2 Data:  0.014101075379066864\n",
      "Precision on edge3 Data:  0.011910099917907448\n",
      "Precision on edge4 Data:  0.014101075379066864\n",
      "------------------------------------------------------------\n",
      "Precision on Training Data:  0.09868112242844222\n",
      "Precision on edge1 Data:  0.11302978279327824\n",
      "Precision on edge2 Data:  0.10505958849787611\n",
      "Precision on edge3 Data:  0.11302978279327824\n",
      "Precision on edge4 Data:  0.10505958849787611\n",
      "------------------------------------------------------------\n",
      "Precision on Training Data:  0.09868112242844222\n",
      "Precision on edge1 Data:  0.11302978279327824\n",
      "Precision on edge2 Data:  0.10505958849787611\n",
      "Precision on edge3 Data:  0.11302978279327824\n",
      "Precision on edge4 Data:  0.10505958849787611\n"
     ]
    }
   ],
   "source": [
    "ALEdata()"
   ]
  },
  {
   "cell_type": "code",
   "execution_count": 24,
   "metadata": {},
   "outputs": [
    {
     "name": "stdout",
     "output_type": "stream",
     "text": [
      "-------------- Bank Note Authentication Dataset Info -------------------- \n",
      "Precision on Training Data:  0.9891284815813117\n",
      "Precision on edge1 Data:  0.987070770519263\n",
      "Precision on edge2 Data:  0.994132740335272\n",
      "Precision on edge3 Data:  0.987070770519263\n",
      "Precision on edge4 Data:  0.994132740335272\n",
      "------------------------------------------------------------\n",
      "Precision on Training Data:  0.8413490347289164\n",
      "Precision on edge1 Data:  0.8469948298147351\n",
      "Precision on edge2 Data:  0.8171768707482994\n",
      "Precision on edge3 Data:  0.8469948298147351\n",
      "Precision on edge4 Data:  0.8171768707482994\n",
      "------------------------------------------------------------\n",
      "Precision on Training Data:  0.9863938877420791\n",
      "Precision on edge1 Data:  0.9845104895104895\n",
      "Precision on edge2 Data:  0.994132740335272\n",
      "Precision on edge3 Data:  0.9845104895104895\n",
      "Precision on edge4 Data:  0.994132740335272\n"
     ]
    }
   ],
   "source": [
    "banknote_data()"
   ]
  },
  {
   "cell_type": "code",
   "execution_count": 25,
   "metadata": {},
   "outputs": [
    {
     "name": "stdout",
     "output_type": "stream",
     "text": [
      "-------------- Simulated Electrical Grid Dataset Info -------------------- \n",
      "Precision on Training Data:  0.8711957062466787\n",
      "Precision on edge1 Data:  0.8608095520846413\n",
      "Precision on edge2 Data:  0.8697828261478557\n",
      "Precision on edge3 Data:  0.8608095520846413\n",
      "Precision on edge4 Data:  0.8697828261478557\n",
      "------------------------------------------------------------\n",
      "Precision on Training Data:  0.98038389923226\n",
      "Precision on edge1 Data:  0.9652430988742853\n",
      "Precision on edge2 Data:  0.9756678754408143\n",
      "Precision on edge3 Data:  0.9652430988742853\n",
      "Precision on edge4 Data:  0.9756678754408143\n",
      "------------------------------------------------------------\n",
      "Precision on Training Data:  0.9261458518881367\n",
      "Precision on edge1 Data:  0.9185247889725394\n",
      "Precision on edge2 Data:  0.9282034874420093\n",
      "Precision on edge3 Data:  0.9185247889725394\n",
      "Precision on edge4 Data:  0.9282034874420093\n"
     ]
    }
   ],
   "source": [
    "e_grid()"
   ]
  },
  {
   "cell_type": "code",
   "execution_count": 26,
   "metadata": {},
   "outputs": [],
   "source": [
    "# e_grid()"
   ]
  },
  {
   "cell_type": "code",
   "execution_count": null,
   "metadata": {},
   "outputs": [],
   "source": []
  },
  {
   "cell_type": "code",
   "execution_count": null,
   "metadata": {},
   "outputs": [],
   "source": []
  },
  {
   "cell_type": "code",
   "execution_count": null,
   "metadata": {},
   "outputs": [],
   "source": []
  }
 ],
 "metadata": {
  "kernelspec": {
   "display_name": "Python 3 (ipykernel)",
   "language": "python",
   "name": "python3"
  },
  "language_info": {
   "codemirror_mode": {
    "name": "ipython",
    "version": 3
   },
   "file_extension": ".py",
   "mimetype": "text/x-python",
   "name": "python",
   "nbconvert_exporter": "python",
   "pygments_lexer": "ipython3",
   "version": "3.11.7"
  }
 },
 "nbformat": 4,
 "nbformat_minor": 4
}
